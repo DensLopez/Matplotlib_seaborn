{
 "cells": [
  {
   "cell_type": "markdown",
   "metadata": {},
   "source": [
    "# Seaborn\n",
    "Escrita por Michael Waskom, construida sobre Matplotlib e integrada para estructuras de Pandas (optimizado).\n",
    " - Matplotlib -> Optimizado para Numpy.\n",
    " - Seaborn -> Optimizado para Pandas.\n",
    "\n",
    "Facilidad y poco código, además de ser altamente personalizable"
   ]
  },
  {
   "cell_type": "markdown",
   "metadata": {},
   "source": [
    "## Estructura básica:\n",
    "\n",
    "```python\n",
    "sns.\"Tipo_de_grafica\n",
    "(data='Dataset',\n",
    "x='Data en eje x',\n",
    "y='Data en eje y',\n",
    "hue='Variable de agrupamiento'\n",
    ")\n",
    "```"
   ]
  },
  {
   "cell_type": "markdown",
   "metadata": {},
   "source": [
    "## Tipos de Gráficas\n",
    "- Diagramas o gráficas relacionables\n",
    "- Distribución de datos\n",
    "- Graficar variables categóricas\n",
    "  \n",
    "![Seaborn Graphs](images/seaborn_graphs.jpg)"
   ]
  },
  {
   "cell_type": "markdown",
   "metadata": {},
   "source": [
    "# Referencias:\n",
    "* [Overview](https://seaborn.pydata.org/tutorial/function_overview.html)\n",
    "* [GitHub Seaborn](https://github.com/mwaskom/seaborn)\n",
    "* [Seaborn](https://seaborn.pydata.org/index.html)"
   ]
  }
 ],
 "metadata": {
  "kernelspec": {
   "display_name": "base",
   "language": "python",
   "name": "python3"
  },
  "language_info": {
   "codemirror_mode": {
    "name": "ipython",
    "version": 3
   },
   "file_extension": ".py",
   "mimetype": "text/x-python",
   "name": "python",
   "nbconvert_exporter": "python",
   "pygments_lexer": "ipython3",
   "version": "3.12.3"
  }
 },
 "nbformat": 4,
 "nbformat_minor": 2
}
